{
 "cells": [
  {
   "cell_type": "code",
   "execution_count": 26,
   "metadata": {},
   "outputs": [
    {
     "name": "stdout",
     "output_type": "stream",
     "text": [
      "Collecting PyAudio\n",
      "  Downloading PyAudio-0.2.12-cp39-cp39-win_amd64.whl (163 kB)\n",
      "Installing collected packages: PyAudio\n",
      "Successfully installed PyAudio-0.2.12\n",
      "Note: you may need to restart the kernel to use updated packages.\n"
     ]
    },
    {
     "name": "stderr",
     "output_type": "stream",
     "text": [
      "WARNING: You are using pip version 22.1.2; however, version 22.2.2 is available.\n",
      "You should consider upgrading via the 'c:\\Users\\Administrador\\anaconda3\\python.exe -m pip install --upgrade pip' command.\n"
     ]
    }
   ],
   "source": [
    "#pip install PyAudio"
   ]
  },
  {
   "cell_type": "code",
   "execution_count": 95,
   "metadata": {},
   "outputs": [],
   "source": [
    "import speech_recognition as sr\n"
   ]
  },
  {
   "cell_type": "code",
   "execution_count": 96,
   "metadata": {},
   "outputs": [],
   "source": [
    "file = sr.AudioFile('Maduracion.wav')"
   ]
  },
  {
   "cell_type": "code",
   "execution_count": 97,
   "metadata": {},
   "outputs": [
    {
     "name": "stdout",
     "output_type": "stream",
     "text": [
      "fruta uno tamaño 9 Traducir 0.25 frutados tamaño 4 Traducir 0.5 fruta 3 tamaño 5 traslucidez 0 fruta 4 tamaño 5 traducí es 0.75 frutas 6 tamaño 8 traslucidez uno su ruta 7 tamaño 4 traducí es una fruta 8 tamaño 8 Traducir 1.25 fruta 9 tamaño 9 traducidas 1 fruta 10 tamaño 9 traslucidez 0.75 su ruta 11 tamaño 8 traducidas 0 fruta 12 tamaño 5 traslúcidas 0 fruta 13 tamaño 8 traslucidez 0 fruta 14 tamaño siete Traducir 0.25 fruta 15 tamaño 4 traducida 0 fruta dice 6 tamaño 7 Traducir 0.5\n"
     ]
    }
   ],
   "source": [
    "r=sr.Recognizer()\n",
    "\n",
    "harvad=sr.AudioFile('Maduracion.wav')\n",
    "with harvad as source:\n",
    "    audio=r.record(source)\n",
    "val=r.recognize_google(audio, key=None, language='es-ES', show_all=False)\n",
    "print(val,end='\\n')\n"
   ]
  },
  {
   "cell_type": "code",
   "execution_count": 98,
   "metadata": {},
   "outputs": [],
   "source": [
    "#transform in the text in df\n",
    "import pandas as pd"
   ]
  },
  {
   "cell_type": "code",
   "execution_count": 99,
   "metadata": {},
   "outputs": [],
   "source": [
    "df = pd.DataFrame([val], columns=['text'])"
   ]
  },
  {
   "cell_type": "code",
   "execution_count": 100,
   "metadata": {},
   "outputs": [
    {
     "data": {
      "text/html": [
       "<div>\n",
       "<style scoped>\n",
       "    .dataframe tbody tr th:only-of-type {\n",
       "        vertical-align: middle;\n",
       "    }\n",
       "\n",
       "    .dataframe tbody tr th {\n",
       "        vertical-align: top;\n",
       "    }\n",
       "\n",
       "    .dataframe thead th {\n",
       "        text-align: right;\n",
       "    }\n",
       "</style>\n",
       "<table border=\"1\" class=\"dataframe\">\n",
       "  <thead>\n",
       "    <tr style=\"text-align: right;\">\n",
       "      <th></th>\n",
       "      <th>text</th>\n",
       "    </tr>\n",
       "  </thead>\n",
       "  <tbody>\n",
       "    <tr>\n",
       "      <th>0</th>\n",
       "      <td>fruta uno tamaño 9 Traducir 0.25 frutados tama...</td>\n",
       "    </tr>\n",
       "  </tbody>\n",
       "</table>\n",
       "</div>"
      ],
      "text/plain": [
       "                                                text\n",
       "0  fruta uno tamaño 9 Traducir 0.25 frutados tama..."
      ]
     },
     "execution_count": 100,
     "metadata": {},
     "output_type": "execute_result"
    }
   ],
   "source": [
    "df.head()"
   ]
  },
  {
   "cell_type": "code",
   "execution_count": 101,
   "metadata": {},
   "outputs": [],
   "source": [
    "import re"
   ]
  },
  {
   "cell_type": "code",
   "execution_count": 102,
   "metadata": {},
   "outputs": [],
   "source": [
    "df['fruta'] = df['text'].str.extract(r'(\\d+)', expand=False)"
   ]
  },
  {
   "cell_type": "code",
   "execution_count": 103,
   "metadata": {},
   "outputs": [
    {
     "name": "stdout",
     "output_type": "stream",
     "text": [
      "sticker omitido1.25ñ\n",
      "  fruta\n",
      "0  1.25\n"
     ]
    }
   ],
   "source": [
    "def limpiar_tokenizar(texto):\n",
    "    '''\n",
    "    Esta función limpia y tokeniza el texto en palabras individuales.\n",
    "    El orden en el que se va limpiando el texto no es arbitrario.\n",
    "    El listado de signos de puntuación se ha obtenido de: print(string.punctuation)\n",
    "    y re.escape(string.punctuation)\n",
    "    '''\n",
    "    \n",
    "    # Se convierte todo el texto a minúsculas\n",
    "    #print(texto)\n",
    "    nuevo_texto = texto.lower()\n",
    "\n",
    "    # Eliminación de signos de puntuación\n",
    "    regex = '[\\\\!\\\\\"\\\\#\\\\$\\\\%\\\\&\\\\\\'\\\\(\\\\)\\\\*\\\\+\\\\,\\\\-\\\\ñ\\\\/\\\\:\\\\;\\\\<\\\\=\\\\>\\\\?\\\\@\\\\[\\\\\\\\\\\\]\\\\^_\\\\í\\\\\\\\ó\\\\\\\\á\\\\\\\\é\\\\\\\\ú\\\\\\\\`\\\\{\\\\|\\\\}\\\\~]'\n",
    "    nuevo_texto = re.sub(regex , ' ', nuevo_texto)\n",
    "    # cambio de palabras \"uno\" y \"un\" por \"1\"\n",
    "    nuevo_texto = re.sub('uno', '1', nuevo_texto)\n",
    "    # cambio de palabras \"dos\" y \"dos\" por \"2\"\n",
    "    nuevo_texto = re.sub('dos', '2', nuevo_texto)\n",
    "    # cambio de palabras \"tres\" y \"tres\" por \"3\"\n",
    "    nuevo_texto = re.sub('tres', '3', nuevo_texto)\n",
    "    # cambio de palabras \"cuatro\" y \"cuatro\" por \"4\"\n",
    "    nuevo_texto = re.sub('cuatro', '4', nuevo_texto)\n",
    "    # cambio de palabras \"cinco\" y \"cinco\" por \"5\"\n",
    "    nuevo_texto = re.sub('cinco', '5', nuevo_texto)\n",
    "    # cambio de palabras \"seis\" y \"seis\" por \"6\"\n",
    "    nuevo_texto = re.sub('seis', '6', nuevo_texto)\n",
    "    # cambio de palabras \"siete\" y \"siete\" por \"7\"\n",
    "    nuevo_texto = re.sub('siete', '7', nuevo_texto)\n",
    "    # cambio de palabras \"ocho\" y \"ocho\" por \"8\"\n",
    "    nuevo_texto = re.sub('ocho', '8', nuevo_texto)\n",
    "    # cambio de palabras \"nueve\" y \"nueve\" por \"9\"\n",
    "    nuevo_texto = re.sub('nueve', '9', nuevo_texto)\n",
    "    # cambio de palabras \"diez\" y \"diez\" por \"10\"\n",
    "    nuevo_texto = re.sub('diez', '10', nuevo_texto)\n",
    "    # cambio de palabras \"once\" y \"once\" por \"11\"\n",
    "    nuevo_texto = re.sub('once', '11', nuevo_texto)\n",
    "    # cambio de palabras \"doce\" y \"doce\" por \"12\"\n",
    "    nuevo_texto = re.sub('doce', '12', nuevo_texto)\n",
    "    # cambio de palabras \"trece\" y \"trece\" por \"13\"\n",
    "    nuevo_texto = re.sub('trece', '13', nuevo_texto)\n",
    "    # cambio de palabras \"catorce\" y \"catorce\" por \"14\"\n",
    "    nuevo_texto = re.sub('catorce', '14', nuevo_texto)\n",
    "    # cambio de palabras \"quince\" y \"quince\" por \"15\" \n",
    "    nuevo_texto = re.sub('quince', '15', nuevo_texto)\n",
    "    # cambio de palabras \"dieciséis\" y \"dieciséis\" por \"16\"\n",
    "    nuevo_texto = re.sub('dieciséis', '16', nuevo_texto)\n",
    "    #nuevo_texto = re.sub(\"\\d+\", ' ', nuevo_texto)\n",
    "    # Eliminación de espacios en blanco múltiples\n",
    "    nuevo_texto = re.sub(\"\\\\s+\", ' ', nuevo_texto)\n",
    "    # Eliminación de las letras\n",
    "    nuevo_texto = re.sub('[a-z]', '', nuevo_texto)\n",
    "    # Tokenización por palabras individuales\n",
    "    nuevo_texto = nuevo_texto.split(sep = ' ')\n",
    "    # Eliminación de palabras vacías\n",
    "    nuevo_texto = [palabra for palabra in nuevo_texto if palabra != '']\n",
    "    # add the words to one column in a df\n",
    "    #print(pd.DataFrame(nuevo_texto))\n",
    "    return pd.DataFrame(nuevo_texto, columns=['fruta'], index=None)\n",
    "\n",
    "test = \"sticker omitido1.25ñ\"\n",
    "print(test)\n",
    "print(limpiar_tokenizar(texto=test))"
   ]
  },
  {
   "cell_type": "code",
   "execution_count": 104,
   "metadata": {},
   "outputs": [],
   "source": [
    "df = limpiar_tokenizar(texto=df['text'][0])"
   ]
  },
  {
   "cell_type": "code",
   "execution_count": 110,
   "metadata": {},
   "outputs": [
    {
     "data": {
      "text/html": [
       "<div>\n",
       "<style scoped>\n",
       "    .dataframe tbody tr th:only-of-type {\n",
       "        vertical-align: middle;\n",
       "    }\n",
       "\n",
       "    .dataframe tbody tr th {\n",
       "        vertical-align: top;\n",
       "    }\n",
       "\n",
       "    .dataframe thead th {\n",
       "        text-align: right;\n",
       "    }\n",
       "</style>\n",
       "<table border=\"1\" class=\"dataframe\">\n",
       "  <thead>\n",
       "    <tr style=\"text-align: right;\">\n",
       "      <th></th>\n",
       "      <th>fruta</th>\n",
       "    </tr>\n",
       "  </thead>\n",
       "  <tbody>\n",
       "    <tr>\n",
       "      <th>1</th>\n",
       "      <td>9</td>\n",
       "    </tr>\n",
       "    <tr>\n",
       "      <th>2</th>\n",
       "      <td>0.25</td>\n",
       "    </tr>\n",
       "    <tr>\n",
       "      <th>3</th>\n",
       "      <td>2</td>\n",
       "    </tr>\n",
       "    <tr>\n",
       "      <th>4</th>\n",
       "      <td>4</td>\n",
       "    </tr>\n",
       "    <tr>\n",
       "      <th>5</th>\n",
       "      <td>0.5</td>\n",
       "    </tr>\n",
       "    <tr>\n",
       "      <th>6</th>\n",
       "      <td>3</td>\n",
       "    </tr>\n",
       "    <tr>\n",
       "      <th>7</th>\n",
       "      <td>5</td>\n",
       "    </tr>\n",
       "    <tr>\n",
       "      <th>8</th>\n",
       "      <td>0</td>\n",
       "    </tr>\n",
       "    <tr>\n",
       "      <th>9</th>\n",
       "      <td>4</td>\n",
       "    </tr>\n",
       "    <tr>\n",
       "      <th>10</th>\n",
       "      <td>5</td>\n",
       "    </tr>\n",
       "    <tr>\n",
       "      <th>11</th>\n",
       "      <td>0.75</td>\n",
       "    </tr>\n",
       "    <tr>\n",
       "      <th>12</th>\n",
       "      <td>6</td>\n",
       "    </tr>\n",
       "    <tr>\n",
       "      <th>13</th>\n",
       "      <td>8</td>\n",
       "    </tr>\n",
       "    <tr>\n",
       "      <th>14</th>\n",
       "      <td>1</td>\n",
       "    </tr>\n",
       "    <tr>\n",
       "      <th>15</th>\n",
       "      <td>7</td>\n",
       "    </tr>\n",
       "    <tr>\n",
       "      <th>16</th>\n",
       "      <td>4</td>\n",
       "    </tr>\n",
       "    <tr>\n",
       "      <th>17</th>\n",
       "      <td>8</td>\n",
       "    </tr>\n",
       "    <tr>\n",
       "      <th>18</th>\n",
       "      <td>8</td>\n",
       "    </tr>\n",
       "    <tr>\n",
       "      <th>19</th>\n",
       "      <td>1.25</td>\n",
       "    </tr>\n",
       "    <tr>\n",
       "      <th>20</th>\n",
       "      <td>9</td>\n",
       "    </tr>\n",
       "    <tr>\n",
       "      <th>21</th>\n",
       "      <td>9</td>\n",
       "    </tr>\n",
       "    <tr>\n",
       "      <th>22</th>\n",
       "      <td>1</td>\n",
       "    </tr>\n",
       "    <tr>\n",
       "      <th>23</th>\n",
       "      <td>10</td>\n",
       "    </tr>\n",
       "    <tr>\n",
       "      <th>24</th>\n",
       "      <td>9</td>\n",
       "    </tr>\n",
       "    <tr>\n",
       "      <th>25</th>\n",
       "      <td>0.75</td>\n",
       "    </tr>\n",
       "    <tr>\n",
       "      <th>26</th>\n",
       "      <td>11</td>\n",
       "    </tr>\n",
       "    <tr>\n",
       "      <th>27</th>\n",
       "      <td>8</td>\n",
       "    </tr>\n",
       "    <tr>\n",
       "      <th>28</th>\n",
       "      <td>0</td>\n",
       "    </tr>\n",
       "    <tr>\n",
       "      <th>29</th>\n",
       "      <td>12</td>\n",
       "    </tr>\n",
       "    <tr>\n",
       "      <th>30</th>\n",
       "      <td>5</td>\n",
       "    </tr>\n",
       "    <tr>\n",
       "      <th>31</th>\n",
       "      <td>0</td>\n",
       "    </tr>\n",
       "    <tr>\n",
       "      <th>32</th>\n",
       "      <td>13</td>\n",
       "    </tr>\n",
       "    <tr>\n",
       "      <th>33</th>\n",
       "      <td>8</td>\n",
       "    </tr>\n",
       "    <tr>\n",
       "      <th>34</th>\n",
       "      <td>0</td>\n",
       "    </tr>\n",
       "    <tr>\n",
       "      <th>35</th>\n",
       "      <td>14</td>\n",
       "    </tr>\n",
       "    <tr>\n",
       "      <th>36</th>\n",
       "      <td>7</td>\n",
       "    </tr>\n",
       "    <tr>\n",
       "      <th>37</th>\n",
       "      <td>0.25</td>\n",
       "    </tr>\n",
       "    <tr>\n",
       "      <th>38</th>\n",
       "      <td>15</td>\n",
       "    </tr>\n",
       "    <tr>\n",
       "      <th>39</th>\n",
       "      <td>4</td>\n",
       "    </tr>\n",
       "    <tr>\n",
       "      <th>40</th>\n",
       "      <td>0</td>\n",
       "    </tr>\n",
       "    <tr>\n",
       "      <th>41</th>\n",
       "      <td>6</td>\n",
       "    </tr>\n",
       "    <tr>\n",
       "      <th>42</th>\n",
       "      <td>7</td>\n",
       "    </tr>\n",
       "    <tr>\n",
       "      <th>43</th>\n",
       "      <td>0.5</td>\n",
       "    </tr>\n",
       "  </tbody>\n",
       "</table>\n",
       "</div>"
      ],
      "text/plain": [
       "   fruta\n",
       "1      9\n",
       "2   0.25\n",
       "3      2\n",
       "4      4\n",
       "5    0.5\n",
       "6      3\n",
       "7      5\n",
       "8      0\n",
       "9      4\n",
       "10     5\n",
       "11  0.75\n",
       "12     6\n",
       "13     8\n",
       "14     1\n",
       "15     7\n",
       "16     4\n",
       "17     8\n",
       "18     8\n",
       "19  1.25\n",
       "20     9\n",
       "21     9\n",
       "22     1\n",
       "23    10\n",
       "24     9\n",
       "25  0.75\n",
       "26    11\n",
       "27     8\n",
       "28     0\n",
       "29    12\n",
       "30     5\n",
       "31     0\n",
       "32    13\n",
       "33     8\n",
       "34     0\n",
       "35    14\n",
       "36     7\n",
       "37  0.25\n",
       "38    15\n",
       "39     4\n",
       "40     0\n",
       "41     6\n",
       "42     7\n",
       "43   0.5"
      ]
     },
     "execution_count": 110,
     "metadata": {},
     "output_type": "execute_result"
    }
   ],
   "source": [
    "df.tail(43)"
   ]
  },
  {
   "cell_type": "code",
   "execution_count": 107,
   "metadata": {},
   "outputs": [
    {
     "name": "stdout",
     "output_type": "stream",
     "text": [
      "1\n",
      "2\n",
      "3\n",
      "4\n",
      "6\n",
      "7\n",
      "8\n",
      "9\n",
      "9\n",
      "8\n",
      "5\n",
      "8\n",
      "7\n",
      "4\n",
      "7\n"
     ]
    }
   ],
   "source": [
    "#create a for loop to get the number of the fruit 0 -3- 6\n",
    "for i in range(0, len(df), 3):\n",
    "    print(df['fruta'][i])\n"
   ]
  }
 ],
 "metadata": {
  "kernelspec": {
   "display_name": "Python 3.9.7 ('base')",
   "language": "python",
   "name": "python3"
  },
  "language_info": {
   "codemirror_mode": {
    "name": "ipython",
    "version": 3
   },
   "file_extension": ".py",
   "mimetype": "text/x-python",
   "name": "python",
   "nbconvert_exporter": "python",
   "pygments_lexer": "ipython3",
   "version": "3.9.7"
  },
  "orig_nbformat": 4,
  "vscode": {
   "interpreter": {
    "hash": "eca024455c4833da5ebd8d9f8d721333677c348aa809892c0b0eda440122e3a6"
   }
  }
 },
 "nbformat": 4,
 "nbformat_minor": 2
}
